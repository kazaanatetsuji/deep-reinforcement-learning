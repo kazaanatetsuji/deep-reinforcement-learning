{
 "cells": [
  {
   "cell_type": "markdown",
   "metadata": {},
   "source": [
    "# Collaboration and Competition\n",
    "\n",
    "---\n",
    "\n",
    "In this notebook, you will learn how to use the Unity ML-Agents environment for the third project of the [Deep Reinforcement Learning Nanodegree](https://www.udacity.com/course/deep-reinforcement-learning-nanodegree--nd893) program.\n",
    "\n",
    "### 1. Start the Environment\n",
    "\n",
    "We begin by importing the necessary packages.  If the code cell below returns an error, please revisit the project instructions to double-check that you have installed [Unity ML-Agents](https://github.com/Unity-Technologies/ml-agents/blob/master/docs/Installation.md) and [NumPy](http://www.numpy.org/)."
   ]
  },
  {
   "cell_type": "code",
   "execution_count": 1,
   "metadata": {},
   "outputs": [],
   "source": [
    "from unityagents import UnityEnvironment\n",
    "import numpy as np\n",
    "import random\n",
    "import torch\n",
    "import matplotlib.pyplot as plt\n",
    "from ddpg_agent import Agent, ReplayBuffer\n",
    "from collections import deque"
   ]
  },
  {
   "cell_type": "markdown",
   "metadata": {},
   "source": [
    "Next, we will start the environment!  **_Before running the code cell below_**, change the `file_name` parameter to match the location of the Unity environment that you downloaded.\n",
    "\n",
    "- **Mac**: `\"path/to/Tennis.app\"`\n",
    "- **Windows** (x86): `\"path/to/Tennis_Windows_x86/Tennis.exe\"`\n",
    "- **Windows** (x86_64): `\"path/to/Tennis_Windows_x86_64/Tennis.exe\"`\n",
    "- **Linux** (x86): `\"path/to/Tennis_Linux/Tennis.x86\"`\n",
    "- **Linux** (x86_64): `\"path/to/Tennis_Linux/Tennis.x86_64\"`\n",
    "- **Linux** (x86, headless): `\"path/to/Tennis_Linux_NoVis/Tennis.x86\"`\n",
    "- **Linux** (x86_64, headless): `\"path/to/Tennis_Linux_NoVis/Tennis.x86_64\"`\n",
    "\n",
    "For instance, if you are using a Mac, then you downloaded `Tennis.app`.  If this file is in the same folder as the notebook, then the line below should appear as follows:\n",
    "```\n",
    "env = UnityEnvironment(file_name=\"Tennis.app\")\n",
    "```"
   ]
  },
  {
   "cell_type": "code",
   "execution_count": 2,
   "metadata": {},
   "outputs": [
    {
     "name": "stderr",
     "output_type": "stream",
     "text": [
      "INFO:unityagents:\n",
      "'Academy' started successfully!\n",
      "Unity Academy name: Academy\n",
      "        Number of Brains: 1\n",
      "        Number of External Brains : 1\n",
      "        Lesson number : 0\n",
      "        Reset Parameters :\n",
      "\t\t\n",
      "Unity brain name: TennisBrain\n",
      "        Number of Visual Observations (per agent): 0\n",
      "        Vector Observation space type: continuous\n",
      "        Vector Observation space size (per agent): 8\n",
      "        Number of stacked Vector Observation: 3\n",
      "        Vector Action space type: continuous\n",
      "        Vector Action space size (per agent): 2\n",
      "        Vector Action descriptions: , \n"
     ]
    }
   ],
   "source": [
    "env = UnityEnvironment(file_name=\"./Tennis/Tennis.app\")"
   ]
  },
  {
   "cell_type": "markdown",
   "metadata": {},
   "source": [
    "Environments contain **_brains_** which are responsible for deciding the actions of their associated agents. Here we check for the first brain available, and set it as the default brain we will be controlling from Python."
   ]
  },
  {
   "cell_type": "code",
   "execution_count": 3,
   "metadata": {},
   "outputs": [],
   "source": [
    "# get the default brain\n",
    "brain_name = env.brain_names[0]\n",
    "brain = env.brains[brain_name]"
   ]
  },
  {
   "cell_type": "markdown",
   "metadata": {},
   "source": [
    "### 2. Examine the State and Action Spaces\n",
    "\n",
    "In this environment, two agents control rackets to bounce a ball over a net. If an agent hits the ball over the net, it receives a reward of +0.1.  If an agent lets a ball hit the ground or hits the ball out of bounds, it receives a reward of -0.01.  Thus, the goal of each agent is to keep the ball in play.\n",
    "\n",
    "The observation space consists of 8 variables corresponding to the position and velocity of the ball and racket. Two continuous actions are available, corresponding to movement toward (or away from) the net, and jumping. \n",
    "\n",
    "Run the code cell below to print some information about the environment."
   ]
  },
  {
   "cell_type": "code",
   "execution_count": 4,
   "metadata": {},
   "outputs": [
    {
     "name": "stdout",
     "output_type": "stream",
     "text": [
      "Number of agents: 2\n",
      "Size of each action: 2\n",
      "There are 2 agents. Each observes a state with length: 24\n",
      "The state for the first agent looks like: [ 0.          0.          0.          0.          0.          0.\n",
      "  0.          0.          0.          0.          0.          0.\n",
      "  0.          0.          0.          0.         -6.65278625 -1.5\n",
      " -0.          0.          6.83172083  6.         -0.          0.        ]\n"
     ]
    }
   ],
   "source": [
    "# reset the environment\n",
    "env_info = env.reset(train_mode=True)[brain_name]\n",
    "\n",
    "# number of agents \n",
    "num_agents = len(env_info.agents)\n",
    "print('Number of agents:', num_agents)\n",
    "\n",
    "# size of each action\n",
    "action_size = brain.vector_action_space_size\n",
    "print('Size of each action:', action_size)\n",
    "\n",
    "# examine the state space \n",
    "states = env_info.vector_observations\n",
    "state_size = states.shape[1]\n",
    "print('There are {} agents. Each observes a state with length: {}'.format(states.shape[0], state_size))\n",
    "print('The state for the first agent looks like:', states[0])"
   ]
  },
  {
   "cell_type": "markdown",
   "metadata": {},
   "source": [
    "### 3. Instantiate the Agent"
   ]
  },
  {
   "cell_type": "code",
   "execution_count": 5,
   "metadata": {},
   "outputs": [],
   "source": [
    "state_size = state_size * 2\n",
    "agent1 = Agent(state_size=state_size, action_size=action_size, random_seed=1)\n",
    "agent2 = Agent(state_size=state_size, action_size=action_size, random_seed=1)"
   ]
  },
  {
   "cell_type": "markdown",
   "metadata": {},
   "source": [
    "### 4. Training My Agent\n",
    "Train the Agent using the code below."
   ]
  },
  {
   "cell_type": "code",
   "execution_count": 6,
   "metadata": {
    "scrolled": true
   },
   "outputs": [
    {
     "name": "stdout",
     "output_type": "stream",
     "text": [
      "Episode 100\tAverage Score: 0.00\n",
      "Episode 200\tAverage Score: 0.00\n",
      "Episode 300\tAverage Score: 0.00\n",
      "Episode 400\tAverage Score: 0.00\n",
      "Episode 500\tAverage Score: 0.00\n",
      "Episode 600\tAverage Score: 0.00\n",
      "Episode 700\tAverage Score: 0.00\n",
      "Episode 800\tAverage Score: 0.00\n",
      "Episode 900\tAverage Score: 0.00\n",
      "Episode 1000\tAverage Score: 0.00\n",
      "Episode 1100\tAverage Score: 0.01\n",
      "Episode 1200\tAverage Score: 0.01\n",
      "Episode 1300\tAverage Score: 0.01\n",
      "Episode 1400\tAverage Score: 0.01\n",
      "Episode 1500\tAverage Score: 0.03\n",
      "Episode 1600\tAverage Score: 0.02\n",
      "Episode 1700\tAverage Score: 0.03\n",
      "Episode 1800\tAverage Score: 0.03\n",
      "Episode 1900\tAverage Score: 0.03\n",
      "Episode 2000\tAverage Score: 0.02\n",
      "Episode 2100\tAverage Score: 0.02\n",
      "Episode 2200\tAverage Score: 0.03\n",
      "Episode 2300\tAverage Score: 0.05\n",
      "Episode 2400\tAverage Score: 0.07\n",
      "Episode 2500\tAverage Score: 0.08\n",
      "Episode 2600\tAverage Score: 0.06\n",
      "Episode 2700\tAverage Score: 0.06\n",
      "Episode 2800\tAverage Score: 0.06\n",
      "Episode 2900\tAverage Score: 0.08\n",
      "Episode 3000\tAverage Score: 0.08\n",
      "Episode 3100\tAverage Score: 0.09\n",
      "Episode 3200\tAverage Score: 0.09\n",
      "Episode 3300\tAverage Score: 0.08\n",
      "Episode 3400\tAverage Score: 0.09\n",
      "Episode 3500\tAverage Score: 0.11\n",
      "Episode 3600\tAverage Score: 0.10\n",
      "Episode 3700\tAverage Score: 0.09\n",
      "Episode 3800\tAverage Score: 0.11\n",
      "Episode 3900\tAverage Score: 0.10\n",
      "Episode 4000\tAverage Score: 0.09\n",
      "Episode 4100\tAverage Score: 0.12\n",
      "Episode 4200\tAverage Score: 0.12\n",
      "Episode 4300\tAverage Score: 0.14\n",
      "Episode 4400\tAverage Score: 0.15\n",
      "Episode 4500\tAverage Score: 0.14\n",
      "Episode 4600\tAverage Score: 0.16\n",
      "Episode 4700\tAverage Score: 0.15\n",
      "Episode 4800\tAverage Score: 0.17\n",
      "Episode 4900\tAverage Score: 0.20\n",
      "Episode 5000\tAverage Score: 0.18\n",
      "Episode 5100\tAverage Score: 0.21\n",
      "Episode 5200\tAverage Score: 0.21\n",
      "Episode 5300\tAverage Score: 0.26\n",
      "Episode 5400\tAverage Score: 0.34\n",
      "Episode 5500\tAverage Score: 0.32\n",
      "Episode 5600\tAverage Score: 0.31\n",
      "Episode 5700\tAverage Score: 0.33\n",
      "Episode 5800\tAverage Score: 0.37\n",
      "Episode 5900\tAverage Score: 0.39\n",
      "Episode 6000\tAverage Score: 0.30\n",
      "Episode 6100\tAverage Score: 0.37\n",
      "Episode 6200\tAverage Score: 0.35\n",
      "Episode 6300\tAverage Score: 0.26\n",
      "Episode 6400\tAverage Score: 0.28\n",
      "Episode 6500\tAverage Score: 0.35\n",
      "Episode 6600\tAverage Score: 0.38\n",
      "Episode 6700\tAverage Score: 0.44\n",
      "Episode 6800\tAverage Score: 0.44\n",
      "Episode 6900\tAverage Score: 0.38\n",
      "Episode 7000\tAverage Score: 0.41\n",
      "Episode 7100\tAverage Score: 0.45\n",
      "Episode 7200\tAverage Score: 0.42\n",
      "Episode 7300\tAverage Score: 0.42\n",
      "Episode 7328\tAverage Score: 0.51\n",
      "Environment solved in 7228 episodes!\tAverage Score: 0.51\n"
     ]
    },
    {
     "data": {
      "image/png": "[encoded data removed]",
      "text/plain": [
       "<Figure size 432x288 with 1 Axes>"
      ]
     },
     "metadata": {
      "needs_background": "light"
     },
     "output_type": "display_data"
    }
   ],
   "source": [
    "def ddpg(n_episodes=100000, print_every=100):\n",
    "    scores_deque = deque(maxlen=print_every)\n",
    "    average_scores = []\n",
    "\n",
    "    for i_episode in range(1, n_episodes+1):\n",
    "        env_info = env.reset(train_mode=True)[brain_name]             # reset the environment\n",
    "        states = env_info.vector_observations                          # get the current state (for each agent)\n",
    "        states = np.reshape(states, (1, state_size))\n",
    "        agent1.reset()\n",
    "        agent2.reset()\n",
    "        scores = np.zeros(num_agents)                                  # initialize the score (for each agent)\n",
    "\n",
    "        while True:\n",
    "            action1 = agent1.act(states)                               # agent1 select an action\n",
    "            action2 = agent2.act(states)                               # agent2 select an action\n",
    "            actions = np.concatenate((action1, action2), axis=0)\n",
    "            actions = np.reshape(actions, (1, 4))\n",
    "\n",
    "            env_info = env.step(actions)[brain_name]                   # send both agents' actions together to the environment\n",
    "            next_states = env_info.vector_observations                 # get next state (for each agent)\n",
    "            next_states = np.reshape(next_states, (1, state_size))     # combine each agent's state\n",
    "            rewards = env_info.rewards                                 # get reward (for each agent)\n",
    "            dones = env_info.local_done                                # see if episode finished\n",
    "            agent1.step(states, action1, rewards[0], next_states, dones[0])\n",
    "            agent2.step(states, action2, rewards[1], next_states, dones[1])\n",
    "            scores += rewards                                      \n",
    "            states = next_states                                   \n",
    "\n",
    "            if np.any(dones):                                          # exit loop if episode finished\n",
    "                break\n",
    "\n",
    "        scores_deque.append(np.max(scores))                             # taking the maximum over both agents\n",
    "        average_scores.append(np.mean(scores_deque))\n",
    "        print('\\rEpisode {}\\tAverage Score: {:.2f}'.format(i_episode, average_scores[-1]), end=\"\")       \n",
    "        if i_episode % print_every == 0:\n",
    "            print('\\rEpisode {}\\tAverage Score: {:.2f}'.format(i_episode,average_scores[-1]))\n",
    "\n",
    "        torch.save(agent1.actor_local.state_dict(), \"checkpoint_actor1.pth\")\n",
    "        torch.save(agent1.critic_local.state_dict(), \"checkpoint_critic1.pth\")\n",
    "        torch.save(agent2.actor_local.state_dict(), \"checkpoint_actor2.pth\")\n",
    "        torch.save(agent2.critic_local.state_dict(), \"checkpoint_critic2.pth\")\n",
    "\n",
    "        if average_scores[-1] >= 0.5:  # get an average score of +0.5 over 100 consecutive episodes\n",
    "            print('\\nEnvironment solved in {:d} episodes!\\tAverage Score: {:.2f}'.format(i_episode - 100, average_scores[-1]))\n",
    "            break\n",
    "            \n",
    "    plt.plot(np.arange(1, len(average_scores) + 1), average_scores)\n",
    "    plt.ylabel('Average Score')\n",
    "    plt.xlabel('Episode #')\n",
    "    plt.show()\n",
    "\n",
    "ddpg()"
   ]
  },
  {
   "cell_type": "markdown",
   "metadata": {},
   "source": [
    "### 5. Confirm using learned Agent\n",
    "\n",
    "Check the operation of Agent based on the learning result (checkpoint_actor1/2, checkpoint_critic1/2.pth)."
   ]
  },
  {
   "cell_type": "code",
   "execution_count": null,
   "metadata": {},
   "outputs": [],
   "source": [
    "agent1.actor_local.load_state_dict(torch.load('checkpoint_actor1.pth'))\n",
    "agent1.critic_local.load_state_dict(torch.load('checkpoint_critic1.pth'))\n",
    "agent2.actor_local.load_state_dict(torch.load('checkpoint_actor2.pth'))\n",
    "agent2.critic_local.load_state_dict(torch.load('checkpoint_critic2.pth'))\n",
    "\n",
    "for i_episode in range(10):\n",
    "    env_info = env.reset(train_mode=False)[brain_name]       # reset the environment\n",
    "    states = env_info.vector_observations                     # get the current state (for each agent)\n",
    "    states = np.reshape(states, (1, state_size))\n",
    "    agent1.reset()\n",
    "    agent2.reset()\n",
    "\n",
    "    while True:\n",
    "        action1 = agent1.act(states, add_noise=False)       # agent1 select an action\n",
    "        action2 = agent2.act(states, add_noise=False)       # agent2 select an action\n",
    "        actions = np.concatenate((action1, action2), axis=0)\n",
    "        actions = np.reshape(actions, (1, 4))\n",
    "\n",
    "        env_info = env.step(actions)[brain_name]               # end both agents' actions together to the environment\n",
    "        next_states = env_info.vector_observations             # get next state (for each agent)\n",
    "        next_states = np.reshape(next_states, (1, state_size)) # combine each agent's state\n",
    "        dones = env_info.local_done                            # see if episode finished\n",
    "        states = next_states\n",
    "\n",
    "        if np.any(dones):                                      # exit loop if episode finished\n",
    "            break"
   ]
  },
  {
   "cell_type": "markdown",
   "metadata": {},
   "source": [
    "When finished, you can close the environment."
   ]
  },
  {
   "cell_type": "code",
   "execution_count": null,
   "metadata": {},
   "outputs": [],
   "source": [
    "env.close()"
   ]
  }
 ],
 "metadata": {
  "kernelspec": {
   "display_name": "drlnd",
   "language": "python",
   "name": "drlnd"
  },
  "language_info": {
   "codemirror_mode": {
    "name": "ipython",
    "version": 3
   },
   "file_extension": ".py",
   "mimetype": "text/x-python",
   "name": "python",
   "nbconvert_exporter": "python",
   "pygments_lexer": "ipython3",
   "version": "3.6.12"
  }
 },
 "nbformat": 4,
 "nbformat_minor": 2
}
